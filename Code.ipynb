{
  "cells": [
    {
      "cell_type": "markdown",
      "metadata": {
        "id": "view-in-github",
        "colab_type": "text"
      },
      "source": [
        "<a href=\"https://colab.research.google.com/github/Revanth980727/Computational-Physics-PHYS-5070/blob/main/Code.ipynb\" target=\"_parent\"><img src=\"https://colab.research.google.com/assets/colab-badge.svg\" alt=\"Open In Colab\"/></a>"
      ]
    },
    {
      "cell_type": "code",
      "execution_count": 1,
      "id": "734cb2da",
      "metadata": {
        "id": "734cb2da"
      },
      "outputs": [],
      "source": [
        "# Importing Required Modules \n",
        "import random\n",
        "import numpy as np\n",
        "import cv2\n",
        "import matplotlib.pyplot as plt\n",
        "\n",
        "seedVal = 41\n",
        "random.seed(seedVal)\n",
        "np.random.seed(seedVal)\n",
        "\n",
        "NUM_CLASSES = 10\n",
        "BATCH_SIZE = 32"
      ]
    },
    {
      "cell_type": "code",
      "source": [
        "!git clone https://github.com/Revanth980727/Computational-Physics-PHYS-5070.git"
      ],
      "metadata": {
        "colab": {
          "base_uri": "https://localhost:8080/"
        },
        "id": "z1fNlNmg9j4y",
        "outputId": "4ce9a4f5-410c-4451-fd1f-941d6eb8ef32"
      },
      "id": "z1fNlNmg9j4y",
      "execution_count": 11,
      "outputs": [
        {
          "output_type": "stream",
          "name": "stdout",
          "text": [
            "Cloning into 'Computational-Physics-PHYS-5070'...\n",
            "remote: Enumerating objects: 7526, done.\u001b[K\n",
            "remote: Counting objects: 100% (7526/7526), done.\u001b[K\n",
            "remote: Compressing objects: 100% (7521/7521), done.\u001b[K\n",
            "remote: Total 7526 (delta 9), reused 7501 (delta 1), pack-reused 0\u001b[K\n",
            "Receiving objects: 100% (7526/7526), 95.67 MiB | 27.67 MiB/s, done.\n",
            "Resolving deltas: 100% (9/9), done.\n"
          ]
        }
      ]
    },
    {
      "cell_type": "markdown",
      "id": "d13e8595",
      "metadata": {
        "id": "d13e8595"
      },
      "source": [
        "Here, we are reading input data here."
      ]
    },
    {
      "cell_type": "code",
      "execution_count": 14,
      "id": "0876a0fb",
      "metadata": {
        "colab": {
          "base_uri": "https://localhost:8080/"
        },
        "id": "0876a0fb",
        "outputId": "fc6e0d73-d008-49ea-9db9-ba396a5b65bc"
      },
      "outputs": [
        {
          "output_type": "stream",
          "name": "stdout",
          "text": [
            "73031\n"
          ]
        }
      ],
      "source": [
        "file_names = list()\n",
        "true_label = list()\n",
        "with open(\"/content/Computational-Physics-PHYS-5070/labels-map-proj-v3.txt\",'r') as data_file:\n",
        "    for line in data_file:\n",
        "        data = line.split()\n",
        "        file_names.append(data[0])\n",
        "        true_label.append(data[1])\n",
        "print(len(file_names))"
      ]
    },
    {
      "cell_type": "markdown",
      "id": "490f1412",
      "metadata": {
        "id": "490f1412"
      },
      "source": [
        "Cleaning dataset."
      ]
    },
    {
      "cell_type": "code",
      "execution_count": 19,
      "id": "94e239c1",
      "metadata": {
        "colab": {
          "base_uri": "https://localhost:8080/"
        },
        "id": "94e239c1",
        "outputId": "91d9943b-d591-492d-ff05-0659f2d47daa"
      },
      "outputs": [
        {
          "output_type": "stream",
          "name": "stdout",
          "text": [
            "7495\n",
            "7495\n"
          ]
        }
      ],
      "source": [
        "from pathlib import Path\n",
        "dataset = list()\n",
        "labels = list()\n",
        "for i in range(0,len(file_names)):\n",
        "    my_file = Path('/content/Computational-Physics-PHYS-5070/map-proj-v3/'+file_names[i])\n",
        "    #print(my_file)\n",
        "    if my_file.is_file():\n",
        "        img = cv2.imread('/content/Computational-Physics-PHYS-5070/map-proj-v3/'+ file_names[i],0)\n",
        "        dataset.append(img)\n",
        "        labels.append(int(true_label[i]))\n",
        "#print(counter)\n",
        "print(len(dataset))\n",
        "print(len(labels))"
      ]
    },
    {
      "cell_type": "code",
      "execution_count": 20,
      "id": "eaa80bc6",
      "metadata": {
        "colab": {
          "base_uri": "https://localhost:8080/"
        },
        "id": "eaa80bc6",
        "outputId": "84f2ce54-4125-4da9-8a60-4db19e093f6b"
      },
      "outputs": [
        {
          "output_type": "stream",
          "name": "stdout",
          "text": [
            "6000\n",
            "6000\n",
            "1495\n",
            "1495\n"
          ]
        }
      ],
      "source": [
        "train_x = dataset[0:6000]\n",
        "print(len(train_x))\n",
        "train_x = np.array(train_x)\n",
        "train_y = labels[0:6000]\n",
        "print(len(train_y))\n",
        "train_y = np.array(train_y)\n",
        "test_x = dataset[6000:]\n",
        "print(len(test_x))\n",
        "test_x = np.array(test_x)\n",
        "test_y = labels[6000:]\n",
        "print(len(test_y))\n",
        "test_y = np.array(test_y)"
      ]
    },
    {
      "cell_type": "code",
      "execution_count": 21,
      "id": "b89046c8",
      "metadata": {
        "id": "b89046c8"
      },
      "outputs": [],
      "source": [
        "dataset = np.array(dataset)\n",
        "labels = np.array(labels)"
      ]
    },
    {
      "cell_type": "code",
      "execution_count": 25,
      "id": "978b605f",
      "metadata": {
        "colab": {
          "base_uri": "https://localhost:8080/",
          "height": 206
        },
        "id": "978b605f",
        "outputId": "3bda5568-eab3-4c82-a749-253df2a70bc1"
      },
      "outputs": [
        {
          "output_type": "execute_result",
          "data": {
            "text/plain": [
              "   Label         Class\n",
              "0      0         other\n",
              "1      1        crater\n",
              "2      2     dark dune\n",
              "3      3  slope streak\n",
              "4      4   bright dune"
            ],
            "text/html": [
              "\n",
              "  <div id=\"df-cd4c9015-5197-4067-844a-e53b7df4b0d7\">\n",
              "    <div class=\"colab-df-container\">\n",
              "      <div>\n",
              "<style scoped>\n",
              "    .dataframe tbody tr th:only-of-type {\n",
              "        vertical-align: middle;\n",
              "    }\n",
              "\n",
              "    .dataframe tbody tr th {\n",
              "        vertical-align: top;\n",
              "    }\n",
              "\n",
              "    .dataframe thead th {\n",
              "        text-align: right;\n",
              "    }\n",
              "</style>\n",
              "<table border=\"1\" class=\"dataframe\">\n",
              "  <thead>\n",
              "    <tr style=\"text-align: right;\">\n",
              "      <th></th>\n",
              "      <th>Label</th>\n",
              "      <th>Class</th>\n",
              "    </tr>\n",
              "  </thead>\n",
              "  <tbody>\n",
              "    <tr>\n",
              "      <th>0</th>\n",
              "      <td>0</td>\n",
              "      <td>other</td>\n",
              "    </tr>\n",
              "    <tr>\n",
              "      <th>1</th>\n",
              "      <td>1</td>\n",
              "      <td>crater</td>\n",
              "    </tr>\n",
              "    <tr>\n",
              "      <th>2</th>\n",
              "      <td>2</td>\n",
              "      <td>dark dune</td>\n",
              "    </tr>\n",
              "    <tr>\n",
              "      <th>3</th>\n",
              "      <td>3</td>\n",
              "      <td>slope streak</td>\n",
              "    </tr>\n",
              "    <tr>\n",
              "      <th>4</th>\n",
              "      <td>4</td>\n",
              "      <td>bright dune</td>\n",
              "    </tr>\n",
              "  </tbody>\n",
              "</table>\n",
              "</div>\n",
              "      <button class=\"colab-df-convert\" onclick=\"convertToInteractive('df-cd4c9015-5197-4067-844a-e53b7df4b0d7')\"\n",
              "              title=\"Convert this dataframe to an interactive table.\"\n",
              "              style=\"display:none;\">\n",
              "        \n",
              "  <svg xmlns=\"http://www.w3.org/2000/svg\" height=\"24px\"viewBox=\"0 0 24 24\"\n",
              "       width=\"24px\">\n",
              "    <path d=\"M0 0h24v24H0V0z\" fill=\"none\"/>\n",
              "    <path d=\"M18.56 5.44l.94 2.06.94-2.06 2.06-.94-2.06-.94-.94-2.06-.94 2.06-2.06.94zm-11 1L8.5 8.5l.94-2.06 2.06-.94-2.06-.94L8.5 2.5l-.94 2.06-2.06.94zm10 10l.94 2.06.94-2.06 2.06-.94-2.06-.94-.94-2.06-.94 2.06-2.06.94z\"/><path d=\"M17.41 7.96l-1.37-1.37c-.4-.4-.92-.59-1.43-.59-.52 0-1.04.2-1.43.59L10.3 9.45l-7.72 7.72c-.78.78-.78 2.05 0 2.83L4 21.41c.39.39.9.59 1.41.59.51 0 1.02-.2 1.41-.59l7.78-7.78 2.81-2.81c.8-.78.8-2.07 0-2.86zM5.41 20L4 18.59l7.72-7.72 1.47 1.35L5.41 20z\"/>\n",
              "  </svg>\n",
              "      </button>\n",
              "      \n",
              "  <style>\n",
              "    .colab-df-container {\n",
              "      display:flex;\n",
              "      flex-wrap:wrap;\n",
              "      gap: 12px;\n",
              "    }\n",
              "\n",
              "    .colab-df-convert {\n",
              "      background-color: #E8F0FE;\n",
              "      border: none;\n",
              "      border-radius: 50%;\n",
              "      cursor: pointer;\n",
              "      display: none;\n",
              "      fill: #1967D2;\n",
              "      height: 32px;\n",
              "      padding: 0 0 0 0;\n",
              "      width: 32px;\n",
              "    }\n",
              "\n",
              "    .colab-df-convert:hover {\n",
              "      background-color: #E2EBFA;\n",
              "      box-shadow: 0px 1px 2px rgba(60, 64, 67, 0.3), 0px 1px 3px 1px rgba(60, 64, 67, 0.15);\n",
              "      fill: #174EA6;\n",
              "    }\n",
              "\n",
              "    [theme=dark] .colab-df-convert {\n",
              "      background-color: #3B4455;\n",
              "      fill: #D2E3FC;\n",
              "    }\n",
              "\n",
              "    [theme=dark] .colab-df-convert:hover {\n",
              "      background-color: #434B5C;\n",
              "      box-shadow: 0px 1px 3px 1px rgba(0, 0, 0, 0.15);\n",
              "      filter: drop-shadow(0px 1px 2px rgba(0, 0, 0, 0.3));\n",
              "      fill: #FFFFFF;\n",
              "    }\n",
              "  </style>\n",
              "\n",
              "      <script>\n",
              "        const buttonEl =\n",
              "          document.querySelector('#df-cd4c9015-5197-4067-844a-e53b7df4b0d7 button.colab-df-convert');\n",
              "        buttonEl.style.display =\n",
              "          google.colab.kernel.accessAllowed ? 'block' : 'none';\n",
              "\n",
              "        async function convertToInteractive(key) {\n",
              "          const element = document.querySelector('#df-cd4c9015-5197-4067-844a-e53b7df4b0d7');\n",
              "          const dataTable =\n",
              "            await google.colab.kernel.invokeFunction('convertToInteractive',\n",
              "                                                     [key], {});\n",
              "          if (!dataTable) return;\n",
              "\n",
              "          const docLinkHtml = 'Like what you see? Visit the ' +\n",
              "            '<a target=\"_blank\" href=https://colab.research.google.com/notebooks/data_table.ipynb>data table notebook</a>'\n",
              "            + ' to learn more about interactive tables.';\n",
              "          element.innerHTML = '';\n",
              "          dataTable['output_type'] = 'display_data';\n",
              "          await google.colab.output.renderOutput(dataTable, element);\n",
              "          const docLink = document.createElement('div');\n",
              "          docLink.innerHTML = docLinkHtml;\n",
              "          element.appendChild(docLink);\n",
              "        }\n",
              "      </script>\n",
              "    </div>\n",
              "  </div>\n",
              "  "
            ]
          },
          "metadata": {},
          "execution_count": 25
        }
      ],
      "source": [
        "import pandas as pd\n",
        "df = pd.read_csv (r'/content/Computational-Physics-PHYS-5070/landmarks_map-proj-v3_classmap.csv',header = None, names = ['Label','Class'])\n",
        "#print(df)\n",
        "#print(df['Class'])\n",
        "df.head()"
      ]
    },
    {
      "cell_type": "code",
      "execution_count": 26,
      "id": "a9c983dd",
      "metadata": {
        "id": "a9c983dd"
      },
      "outputs": [],
      "source": [
        "def addlabels(x,y):\n",
        "    for i in range(len(x)):\n",
        "        plt.text(i,y[i]//2, y[i], ha = 'center')"
      ]
    },
    {
      "cell_type": "code",
      "execution_count": 27,
      "id": "0b21d320",
      "metadata": {
        "colab": {
          "base_uri": "https://localhost:8080/",
          "height": 350
        },
        "id": "0b21d320",
        "outputId": "b766ccbc-fa47-4a26-cfd8-efa87527a3a4"
      },
      "outputs": [
        {
          "output_type": "display_data",
          "data": {
            "text/plain": [
              "<Figure size 1008x360 with 1 Axes>"
            ],
            "image/png": "[encoded data removed]"
          },
          "metadata": {
            "needs_background": "light"
          }
        }
      ],
      "source": [
        "label_0 = len(labels[labels == 0])\n",
        "label_1 = len(labels[labels == 1])\n",
        "label_2 = len(labels[labels == 2])\n",
        "label_3 = len(labels[labels == 3])\n",
        "label_4 = len(labels[labels == 4])\n",
        "label_5 = len(labels[labels == 5])\n",
        "label_6 = len(labels[labels == 6])\n",
        "label_7 = len(labels[labels == 7])\n",
        "plt.figure(figsize=(14,5))\n",
        "plt.bar(df['Class'], [label_0,label_1,label_2,label_3,label_4,label_5,label_6,label_7])\n",
        "addlabels(df['Class'],[label_0,label_1,label_2,label_3,label_4,label_5,label_6,label_7])\n",
        "plt.title('Inital Dataset')\n",
        "plt.xlabel('Classes')\n",
        "plt.ylabel('Frequency of each class')\n",
        "plt.show()\n",
        "\n",
        "#print(label_0,label_1,label_2,label_3,label_4,label_5,label_6,label_7)"
      ]
    },
    {
      "cell_type": "code",
      "execution_count": null,
      "id": "9dd5b619",
      "metadata": {
        "id": "9dd5b619",
        "outputId": "7a65fa9d-3eca-44fe-ed1d-52aa793cb8a7"
      },
      "outputs": [
        {
          "data": {
            "image/png": "[encoded data removed]",
            "text/plain": [
              "<Figure size 1008x360 with 1 Axes>"
            ]
          },
          "metadata": {
            "needs_background": "light"
          },
          "output_type": "display_data"
        }
      ],
      "source": [
        "label_0 = len(train_y[train_y == 0])\n",
        "label_1 = len(train_y[train_y == 1])\n",
        "label_2 = len(train_y[train_y == 2])\n",
        "label_3 = len(train_y[train_y == 3])\n",
        "label_4 = len(train_y[train_y == 4])\n",
        "label_5 = len(train_y[train_y == 5])\n",
        "label_6 = len(train_y[train_y == 6])\n",
        "label_7 = len(train_y[train_y == 7])\n",
        "plt.figure(figsize=(14,5))\n",
        "plt.bar(df['Class'], [label_0,label_1,label_2,label_3,label_4,label_5,label_6,label_7])\n",
        "addlabels(df['Class'],[label_0,label_1,label_2,label_3,label_4,label_5,label_6,label_7])\n",
        "plt.title('Training Dataset')\n",
        "plt.xlabel('Classes')\n",
        "plt.ylabel('Frequency of each class')\n",
        "plt.show()\n",
        "\n",
        "#print(label_0,label_1,label_2,label_3,label_4)"
      ]
    },
    {
      "cell_type": "code",
      "execution_count": null,
      "id": "b524f711",
      "metadata": {
        "id": "b524f711",
        "outputId": "0d548fce-2532-4921-e8e3-925facf4cb04"
      },
      "outputs": [
        {
          "data": {
            "image/png": "[encoded data removed]",
            "text/plain": [
              "<Figure size 1008x360 with 1 Axes>"
            ]
          },
          "metadata": {
            "needs_background": "light"
          },
          "output_type": "display_data"
        },
        {
          "name": "stdout",
          "output_type": "stream",
          "text": [
            "1091 91 70 128 24\n"
          ]
        }
      ],
      "source": [
        "label_0 = len(test_y[test_y == 0])\n",
        "label_1 = len(test_y[test_y == 1])\n",
        "label_2 = len(test_y[test_y == 2])\n",
        "label_3 = len(test_y[test_y == 3])\n",
        "label_4 = len(test_y[test_y == 4])\n",
        "label_5 = len(test_y[test_y == 5])\n",
        "label_6 = len(test_y[test_y == 6])\n",
        "label_7 = len(test_y[test_y == 7])\n",
        "plt.figure(figsize=(14,5))\n",
        "plt.bar(df['Class'], [label_0,label_1,label_2,label_3,label_4,label_5,label_6,label_7])\n",
        "addlabels(df['Class'],[label_0,label_1,label_2,label_3,label_4,label_5,label_6,label_7])\n",
        "plt.title('Test Dataset')\n",
        "plt.xlabel('Classes')\n",
        "plt.ylabel('Frequency of each class')\n",
        "plt.show()\n",
        "\n",
        "print(label_0,label_1,label_2,label_3,label_4)"
      ]
    },
    {
      "cell_type": "code",
      "execution_count": null,
      "id": "75c7c4ad",
      "metadata": {
        "id": "75c7c4ad",
        "outputId": "6200bf06-cc7d-40c4-ed28-d0099dd4ab3e"
      },
      "outputs": [
        {
          "name": "stdout",
          "output_type": "stream",
          "text": [
            "Collecting package metadata (current_repodata.json): done\n",
            "Solving environment: done\n",
            "\n",
            "# All requested packages already installed.\n",
            "\n"
          ]
        }
      ],
      "source": [
        "!conda install cudatoolkit=11.0"
      ]
    },
    {
      "cell_type": "code",
      "execution_count": null,
      "id": "2a319e59",
      "metadata": {
        "id": "2a319e59",
        "outputId": "a8e47d81-2bf6-4e8b-b993-56050057c76d"
      },
      "outputs": [
        {
          "name": "stdout",
          "output_type": "stream",
          "text": [
            "Found existing installation: tf-nightly-gpu 2.10.0.dev20220418\n",
            "Uninstalling tf-nightly-gpu-2.10.0.dev20220418:\n",
            "  Would remove:\n",
            "    /home/nani/anaconda3/bin/estimator_ckpt_converter\n",
            "    /home/nani/anaconda3/bin/import_pb_to_tensorboard\n",
            "    /home/nani/anaconda3/bin/saved_model_cli\n",
            "    /home/nani/anaconda3/bin/tf_upgrade_v2\n",
            "    /home/nani/anaconda3/bin/tflite_convert\n",
            "    /home/nani/anaconda3/bin/toco\n",
            "    /home/nani/anaconda3/bin/toco_from_protos\n",
            "    /home/nani/anaconda3/lib/python3.9/site-packages/tensorflow/*\n",
            "    /home/nani/anaconda3/lib/python3.9/site-packages/tf_nightly_gpu-2.10.0.dev20220418.dist-info/*\n",
            "  Would not remove (might be manually added):\n",
            "    /home/nani/anaconda3/lib/python3.9/site-packages/tensorflow/_api/v2/compat/v2/mixed_precision/__init__.py\n",
            "    /home/nani/anaconda3/lib/python3.9/site-packages/tensorflow/_api/v2/compat/v2/mixed_precision/experimental/__init__.py\n",
            "    /home/nani/anaconda3/lib/python3.9/site-packages/tensorflow/_api/v2/mixed_precision/__init__.py\n",
            "    /home/nani/anaconda3/lib/python3.9/site-packages/tensorflow/_api/v2/mixed_precision/experimental/__init__.py\n",
            "    /home/nani/anaconda3/lib/python3.9/site-packages/tensorflow/compiler/tf2tensorrt/lib_pywrap_py_utils_ccsharedlib.so\n",
            "    /home/nani/anaconda3/lib/python3.9/site-packages/tensorflow/core/kernels/boosted_trees/__init__.py\n",
            "    /home/nani/anaconda3/lib/python3.9/site-packages/tensorflow/core/kernels/boosted_trees/boosted_trees_pb2.py\n",
            "    /home/nani/anaconda3/lib/python3.9/site-packages/tensorflow/core/platform/lib_cpu_feature_guard.so_ccsharedlib.so\n",
            "    /home/nani/anaconda3/lib/python3.9/site-packages/tensorflow/include/absl/base/internal/exponential_biased.h\n",
            "    /home/nani/anaconda3/lib/python3.9/site-packages/tensorflow/include/absl/hash/internal/wyhash.h\n",
            "    /home/nani/anaconda3/lib/python3.9/site-packages/tensorflow/include/external/absl_py/absl/third_party/unittest3_backport/LICENSE\n",
            "    /home/nani/anaconda3/lib/python3.9/site-packages/tensorflow/include/external/com_googlesource_code_re2/util/flags.h\n",
            "    /home/nani/anaconda3/lib/python3.9/site-packages/tensorflow/include/external/com_googlesource_code_re2/util/pod_array.h\n",
            "    /home/nani/anaconda3/lib/python3.9/site-packages/tensorflow/include/external/com_googlesource_code_re2/util/sparse_array.h\n",
            "    /home/nani/anaconda3/lib/python3.9/site-packages/tensorflow/include/external/com_googlesource_code_re2/util/sparse_set.h\n",
            "    /home/nani/anaconda3/lib/python3.9/site-packages/tensorflow/include/external/com_googlesource_code_re2/util/util.h\n",
            "    /home/nani/anaconda3/lib/python3.9/site-packages/tensorflow/include/external/llvm-project/mlir/_virtual_includes/BufferizableOpInterfaceIncGen/mlir/Dialect/Linalg/ComprehensiveBufferize/BufferizableOpInterface.cpp.inc\n",
            "    /home/nani/anaconda3/lib/python3.9/site-packages/tensorflow/include/external/llvm-project/mlir/_virtual_includes/BufferizableOpInterfaceIncGen/mlir/Dialect/Linalg/ComprehensiveBufferize/BufferizableOpInterface.h.inc\n",
            "    /home/nani/anaconda3/lib/python3.9/site-packages/tensorflow/include/external/llvm-project/mlir/_virtual_includes/GPUBaseIncGen/mlir/Dialect/GPU/GPUOpsDialect.cpp.inc\n",
            "    /home/nani/anaconda3/lib/python3.9/site-packages/tensorflow/include/external/llvm-project/mlir/_virtual_includes/GPUBaseIncGen/mlir/Dialect/GPU/GPUOpsDialect.h.inc\n",
            "    /home/nani/anaconda3/lib/python3.9/site-packages/tensorflow/include/external/llvm-project/mlir/_virtual_includes/StandardOpsIncGen/mlir/Dialect/StandardOps/IR/Ops.cpp.inc\n",
            "    /home/nani/anaconda3/lib/python3.9/site-packages/tensorflow/include/external/llvm-project/mlir/_virtual_includes/StandardOpsIncGen/mlir/Dialect/StandardOps/IR/Ops.h.inc\n",
            "    /home/nani/anaconda3/lib/python3.9/site-packages/tensorflow/include/external/llvm-project/mlir/_virtual_includes/StandardOpsIncGen/mlir/Dialect/StandardOps/IR/OpsDialect.cpp.inc\n",
            "    /home/nani/anaconda3/lib/python3.9/site-packages/tensorflow/include/external/llvm-project/mlir/_virtual_includes/StandardOpsIncGen/mlir/Dialect/StandardOps/IR/OpsDialect.h.inc\n",
            "    /home/nani/anaconda3/lib/python3.9/site-packages/tensorflow/include/external/llvm-project/mlir/_virtual_includes/StandardOpsIncGen/mlir/Dialect/StandardOps/IR/OpsEnums.cpp.inc\n",
            "    /home/nani/anaconda3/lib/python3.9/site-packages/tensorflow/include/external/llvm-project/mlir/_virtual_includes/StandardOpsIncGen/mlir/Dialect/StandardOps/IR/OpsEnums.h.inc\n",
            "    /home/nani/anaconda3/lib/python3.9/site-packages/tensorflow/include/external/llvm-project/mlir/_virtual_includes/StandardOpsTransformsPassIncGen/mlir/Dialect/StandardOps/Transforms/Passes.h.inc\n",
            "    /home/nani/anaconda3/lib/python3.9/site-packages/tensorflow/include/external/llvm-project/mlir/_virtual_includes/VectorOpsIncGen/mlir/Dialect/Vector/VectorOps.cpp.inc\n",
            "    /home/nani/anaconda3/lib/python3.9/site-packages/tensorflow/include/external/llvm-project/mlir/_virtual_includes/VectorOpsIncGen/mlir/Dialect/Vector/VectorOps.h.inc\n",
            "    /home/nani/anaconda3/lib/python3.9/site-packages/tensorflow/include/external/llvm-project/mlir/_virtual_includes/VectorOpsIncGen/mlir/Dialect/Vector/VectorOpsDialect.cpp.inc\n",
            "    /home/nani/anaconda3/lib/python3.9/site-packages/tensorflow/include/external/llvm-project/mlir/_virtual_includes/VectorOpsIncGen/mlir/Dialect/Vector/VectorOpsDialect.h.inc\n",
            "    /home/nani/anaconda3/lib/python3.9/site-packages/tensorflow/include/external/llvm-project/mlir/_virtual_includes/VectorOpsIncGen/mlir/Dialect/Vector/VectorOpsEnums.cpp.inc\n",
            "    /home/nani/anaconda3/lib/python3.9/site-packages/tensorflow/include/external/llvm-project/mlir/_virtual_includes/VectorOpsIncGen/mlir/Dialect/Vector/VectorOpsEnums.h.inc\n",
            "    /home/nani/anaconda3/lib/python3.9/site-packages/tensorflow/include/external/llvm-project/mlir/include/mlir/Analysis/AffineAnalysis.h\n",
            "    /home/nani/anaconda3/lib/python3.9/site-packages/tensorflow/include/external/llvm-project/mlir/include/mlir/Analysis/AffineStructures.h\n",
            "    /home/nani/anaconda3/lib/python3.9/site-packages/tensorflow/include/external/llvm-project/mlir/include/mlir/Analysis/LinearTransform.h\n",
            "    /home/nani/anaconda3/lib/python3.9/site-packages/tensorflow/include/external/llvm-project/mlir/include/mlir/Analysis/LoopAnalysis.h\n",
            "    /home/nani/anaconda3/lib/python3.9/site-packages/tensorflow/include/external/llvm-project/mlir/include/mlir/Analysis/NestedMatcher.h\n",
            "    /home/nani/anaconda3/lib/python3.9/site-packages/tensorflow/include/external/llvm-project/mlir/include/mlir/Analysis/NumberOfExecutions.h\n",
            "    /home/nani/anaconda3/lib/python3.9/site-packages/tensorflow/include/external/llvm-project/mlir/include/mlir/Analysis/Presburger/IntegerPolyhedron.h\n",
            "    /home/nani/anaconda3/lib/python3.9/site-packages/tensorflow/include/external/llvm-project/mlir/include/mlir/Analysis/PresburgerSet.h\n",
            "    /home/nani/anaconda3/lib/python3.9/site-packages/tensorflow/include/external/llvm-project/mlir/include/mlir/Analysis/Utils.h\n",
            "    /home/nani/anaconda3/lib/python3.9/site-packages/tensorflow/include/external/llvm-project/mlir/include/mlir/Conversion/SCFToStandard/SCFToStandard.h\n",
            "    /home/nani/anaconda3/lib/python3.9/site-packages/tensorflow/include/external/llvm-project/mlir/include/mlir/Conversion/StandardToLLVM/ConvertStandardToLLVM.h\n",
            "    /home/nani/anaconda3/lib/python3.9/site-packages/tensorflow/include/external/llvm-project/mlir/include/mlir/Conversion/StandardToLLVM/ConvertStandardToLLVMPass.h\n",
            "    /home/nani/anaconda3/lib/python3.9/site-packages/tensorflow/include/external/llvm-project/mlir/include/mlir/Conversion/StandardToSPIRV/StandardToSPIRV.h\n",
            "    /home/nani/anaconda3/lib/python3.9/site-packages/tensorflow/include/external/llvm-project/mlir/include/mlir/Conversion/StandardToSPIRV/StandardToSPIRVPass.h\n",
            "    /home/nani/anaconda3/lib/python3.9/site-packages/tensorflow/include/external/llvm-project/mlir/include/mlir/Conversion/TosaToStandard/TosaToStandard.h\n",
            "    /home/nani/anaconda3/lib/python3.9/site-packages/tensorflow/include/external/llvm-project/mlir/include/mlir/Dialect/Linalg/ComprehensiveBufferize/AffineInterfaceImpl.h\n",
            "    /home/nani/anaconda3/lib/python3.9/site-packages/tensorflow/include/external/llvm-project/mlir/include/mlir/Dialect/Linalg/ComprehensiveBufferize/ArithInterfaceImpl.h\n",
            "    /home/nani/anaconda3/lib/python3.9/site-packages/tensorflow/include/external/llvm-project/mlir/include/mlir/Dialect/Linalg/ComprehensiveBufferize/BufferizableOpInterface.cpp.inc\n",
            "    /home/nani/anaconda3/lib/python3.9/site-packages/tensorflow/include/external/llvm-project/mlir/include/mlir/Dialect/Linalg/ComprehensiveBufferize/BufferizableOpInterface.h\n",
            "    /home/nani/anaconda3/lib/python3.9/site-packages/tensorflow/include/external/llvm-project/mlir/include/mlir/Dialect/Linalg/ComprehensiveBufferize/BufferizableOpInterface.h.inc\n",
            "    /home/nani/anaconda3/lib/python3.9/site-packages/tensorflow/include/external/llvm-project/mlir/include/mlir/Dialect/Linalg/ComprehensiveBufferize/BufferizationInterfaceImpl.h\n",
            "    /home/nani/anaconda3/lib/python3.9/site-packages/tensorflow/include/external/llvm-project/mlir/include/mlir/Dialect/Linalg/ComprehensiveBufferize/ComprehensiveBufferize.h\n",
            "    /home/nani/anaconda3/lib/python3.9/site-packages/tensorflow/include/external/llvm-project/mlir/include/mlir/Dialect/Linalg/ComprehensiveBufferize/LinalgInterfaceImpl.h\n",
            "    /home/nani/anaconda3/lib/python3.9/site-packages/tensorflow/include/external/llvm-project/mlir/include/mlir/Dialect/Linalg/ComprehensiveBufferize/SCFInterfaceImpl.h\n",
            "    /home/nani/anaconda3/lib/python3.9/site-packages/tensorflow/include/external/llvm-project/mlir/include/mlir/Dialect/Linalg/ComprehensiveBufferize/TensorInterfaceImpl.h\n",
            "    /home/nani/anaconda3/lib/python3.9/site-packages/tensorflow/include/external/llvm-project/mlir/include/mlir/Dialect/Linalg/ComprehensiveBufferize/VectorInterfaceImpl.h\n",
            "    /home/nani/anaconda3/lib/python3.9/site-packages/tensorflow/include/external/llvm-project/mlir/include/mlir/Dialect/SCF/AffineCanonicalizationUtils.h\n",
            "    /home/nani/anaconda3/lib/python3.9/site-packages/tensorflow/include/external/llvm-project/mlir/include/mlir/Dialect/SCF/Utils.h\n",
            "    /home/nani/anaconda3/lib/python3.9/site-packages/tensorflow/include/external/llvm-project/mlir/include/mlir/Dialect/StandardOps/IR/Ops.cpp.inc\n",
            "    /home/nani/anaconda3/lib/python3.9/site-packages/tensorflow/include/external/llvm-project/mlir/include/mlir/Dialect/StandardOps/IR/Ops.h\n",
            "    /home/nani/anaconda3/lib/python3.9/site-packages/tensorflow/include/external/llvm-project/mlir/include/mlir/Dialect/StandardOps/IR/Ops.h.inc\n",
            "    /home/nani/anaconda3/lib/python3.9/site-packages/tensorflow/include/external/llvm-project/mlir/include/mlir/Dialect/StandardOps/IR/OpsDialect.cpp.inc\n",
            "    /home/nani/anaconda3/lib/python3.9/site-packages/tensorflow/include/external/llvm-project/mlir/include/mlir/Dialect/StandardOps/IR/OpsDialect.h.inc\n",
            "    /home/nani/anaconda3/lib/python3.9/site-packages/tensorflow/include/external/llvm-project/mlir/include/mlir/Dialect/StandardOps/IR/OpsEnums.cpp.inc\n",
            "    /home/nani/anaconda3/lib/python3.9/site-packages/tensorflow/include/external/llvm-project/mlir/include/mlir/Dialect/StandardOps/IR/OpsEnums.h.inc\n",
            "    /home/nani/anaconda3/lib/python3.9/site-packages/tensorflow/include/external/llvm-project/mlir/include/mlir/Dialect/StandardOps/Transforms/ComposeSubView.h\n",
            "    /home/nani/anaconda3/lib/python3.9/site-packages/tensorflow/include/external/llvm-project/mlir/include/mlir/Dialect/StandardOps/Transforms/DecomposeCallGraphTypes.h\n",
            "    /home/nani/anaconda3/lib/python3.9/site-packages/tensorflow/include/external/llvm-project/mlir/include/mlir/Dialect/StandardOps/Transforms/FuncConversions.h\n",
            "    /home/nani/anaconda3/lib/python3.9/site-packages/tensorflow/include/external/llvm-project/mlir/include/mlir/Dialect/StandardOps/Transforms/Passes.h\n",
            "    /home/nani/anaconda3/lib/python3.9/site-packages/tensorflow/include/external/llvm-project/mlir/include/mlir/Dialect/StandardOps/Transforms/Passes.h.inc\n",
            "    /home/nani/anaconda3/lib/python3.9/site-packages/tensorflow/include/external/llvm-project/mlir/include/mlir/Dialect/StandardOps/Utils/Utils.h\n",
            "    /home/nani/anaconda3/lib/python3.9/site-packages/tensorflow/include/external/llvm-project/mlir/include/mlir/Dialect/Vector/VectorOps.cpp.inc\n",
            "    /home/nani/anaconda3/lib/python3.9/site-packages/tensorflow/include/external/llvm-project/mlir/include/mlir/Dialect/Vector/VectorOps.h\n",
            "    /home/nani/anaconda3/lib/python3.9/site-packages/tensorflow/include/external/llvm-project/mlir/include/mlir/Dialect/Vector/VectorOps.h.inc\n",
            "    /home/nani/anaconda3/lib/python3.9/site-packages/tensorflow/include/external/llvm-project/mlir/include/mlir/Dialect/Vector/VectorOpsDialect.cpp.inc\n",
            "    /home/nani/anaconda3/lib/python3.9/site-packages/tensorflow/include/external/llvm-project/mlir/include/mlir/Dialect/Vector/VectorOpsDialect.h.inc\n",
            "    /home/nani/anaconda3/lib/python3.9/site-packages/tensorflow/include/external/llvm-project/mlir/include/mlir/Dialect/Vector/VectorOpsEnums.cpp.inc\n",
            "    /home/nani/anaconda3/lib/python3.9/site-packages/tensorflow/include/external/llvm-project/mlir/include/mlir/Dialect/Vector/VectorOpsEnums.h.inc\n",
            "    /home/nani/anaconda3/lib/python3.9/site-packages/tensorflow/include/external/llvm-project/mlir/include/mlir/Dialect/Vector/VectorRewritePatterns.h\n",
            "    /home/nani/anaconda3/lib/python3.9/site-packages/tensorflow/include/external/llvm-project/mlir/include/mlir/Dialect/Vector/VectorTransforms.h\n",
            "    /home/nani/anaconda3/lib/python3.9/site-packages/tensorflow/include/external/llvm-project/mlir/include/mlir/Dialect/Vector/VectorUtils.h\n",
            "    /home/nani/anaconda3/lib/python3.9/site-packages/tensorflow/include/external/llvm-project/mlir/include/mlir/IR/FunctionSupport.h\n",
            "    /home/nani/anaconda3/lib/python3.9/site-packages/tensorflow/include/external/llvm-project/mlir/include/mlir/IR/Identifier.h\n",
            "    /home/nani/anaconda3/lib/python3.9/site-packages/tensorflow/include/external/llvm-project/mlir/include/mlir/Parser.h\n",
            "    /home/nani/anaconda3/lib/python3.9/site-packages/tensorflow/include/external/llvm-project/mlir/include/mlir/Transforms/BufferUtils.h\n",
            "    /home/nani/anaconda3/lib/python3.9/site-packages/tensorflow/include/external/llvm-project/mlir/include/mlir/Transforms/LoopFusionUtils.h\n",
            "    /home/nani/anaconda3/lib/python3.9/site-packages/tensorflow/include/external/llvm-project/mlir/include/mlir/Transforms/LoopUtils.h\n",
            "    /home/nani/anaconda3/lib/python3.9/site-packages/tensorflow/include/external/llvm-project/mlir/include/mlir/Transforms/Utils.h\n",
            "    /home/nani/anaconda3/lib/python3.9/site-packages/tensorflow/include/external/llvm-project/mlir/include/mlir/Translation.h\n",
            "    /home/nani/anaconda3/lib/python3.9/site-packages/tensorflow/include/external/llvm-project/mlir/lib/Dialect/StandardOps/Transforms/PassDetail.h\n",
            "    /home/nani/anaconda3/lib/python3.9/site-packages/tensorflow/include/external/mkl_dnn_v1/src/cpu/x64/jit_avx512_common_conv_winograd_kernel_f32.hpp\n",
            "    /home/nani/anaconda3/lib/python3.9/site-packages/tensorflow/include/external/mkl_dnn_v1/src/cpu/x64/jit_avx512_common_convolution_winograd.hpp\n",
            "    /home/nani/anaconda3/lib/python3.9/site-packages/tensorflow/include/tensorflow/compiler/mlir/hlo/_virtual_includes/DiscRalPassIncGen/mlir-hlo/Dialect/disc-ral/transforms/disc_ral_passes.h.inc\n",
            "    /home/nani/anaconda3/lib/python3.9/site-packages/tensorflow/include/tensorflow/compiler/mlir/hlo/_virtual_includes/disc_ral_ops_inc_gen/mlir-hlo/Dialect/disc-ral/IR/disc_ral_ops.h.inc\n",
            "    /home/nani/anaconda3/lib/python3.9/site-packages/tensorflow/include/tensorflow/compiler/mlir/hlo/include/mlir-hlo/Dialect/disc-ral/IR/disc_ral_ops.h\n",
            "    /home/nani/anaconda3/lib/python3.9/site-packages/tensorflow/include/tensorflow/compiler/mlir/hlo/include/mlir-hlo/Dialect/disc-ral/IR/disc_ral_ops.h.inc\n",
            "    /home/nani/anaconda3/lib/python3.9/site-packages/tensorflow/include/tensorflow/compiler/mlir/hlo/include/mlir-hlo/Dialect/disc-ral/transforms/PassDetail.h\n",
            "    /home/nani/anaconda3/lib/python3.9/site-packages/tensorflow/include/tensorflow/compiler/mlir/hlo/include/mlir-hlo/Dialect/disc-ral/transforms/disc_ral_passes.h.inc\n",
            "    /home/nani/anaconda3/lib/python3.9/site-packages/tensorflow/include/tensorflow/compiler/mlir/hlo/include/mlir-hlo/Dialect/disc-ral/transforms/passes.h\n",
            "    /home/nani/anaconda3/lib/python3.9/site-packages/tensorflow/include/tensorflow/compiler/mlir/hlo/include/mlir-hlo/Dialect/disc-ral/transforms/register_passes.h\n",
            "    /home/nani/anaconda3/lib/python3.9/site-packages/tensorflow/include/tensorflow/compiler/mlir/hlo/include/mlir-hlo/Dialect/disc-ral/transforms/rewriters.h\n",
            "    /home/nani/anaconda3/lib/python3.9/site-packages/tensorflow/include/tensorflow/compiler/mlir/hlo/include/mlir-hlo/Dialect/lhlo/transforms/fusion_utils.h\n",
            "    /home/nani/anaconda3/lib/python3.9/site-packages/tensorflow/include/tensorflow/compiler/mlir/hlo/include/mlir-hlo/Dialect/lhlo/transforms/lhlo_elemental_utils.h\n",
            "    /home/nani/anaconda3/lib/python3.9/site-packages/tensorflow/include/tensorflow/compiler/mlir/hlo/include/mlir-hlo/utils/codegen_utils.h\n",
            "    /home/nani/anaconda3/lib/python3.9/site-packages/tensorflow/include/tensorflow/compiler/mlir/hlo/include/mlir-hlo/utils/cycle_detector.h\n",
            "    /home/nani/anaconda3/lib/python3.9/site-packages/tensorflow/include/tensorflow/compiler/mlir/hlo/include/mlir-hlo/utils/disc_supported_list.h.inc\n",
            "    /home/nani/anaconda3/lib/python3.9/site-packages/tensorflow/include/tensorflow/compiler/mlir/hlo/include/mlir-hlo/utils/placement_utils.h\n",
            "    /home/nani/anaconda3/lib/python3.9/site-packages/tensorflow/include/tensorflow/compiler/mlir/tensorflow/utils/visitor_util.h\n",
            "    /home/nani/anaconda3/lib/python3.9/site-packages/tensorflow/include/tensorflow/compiler/xla/service/gpu/cudnn_batchnorm_rewriter.h\n",
            "    /home/nani/anaconda3/lib/python3.9/site-packages/tensorflow/include/tensorflow/compiler/xla/service/gpu/cudnn_batchnorm_runner.h\n",
            "    /home/nani/anaconda3/lib/python3.9/site-packages/tensorflow/include/tensorflow/compiler/xla/service/gpu/cudnn_batchnorm_thunk.h\n",
            "    /home/nani/anaconda3/lib/python3.9/site-packages/tensorflow/include/tensorflow/compiler/xla/service/gpu/gpu_copy_insertion.h\n",
            "    /home/nani/anaconda3/lib/python3.9/site-packages/tensorflow/include/tensorflow/compiler/xla/service/gpu/gpu_spmd_partitioner.h\n",
            "    /home/nani/anaconda3/lib/python3.9/site-packages/tensorflow/include/tensorflow/core/kernels/boosted_trees/boosted_trees.pb.h\n",
            "    /home/nani/anaconda3/lib/python3.9/site-packages/tensorflow/include/tensorflow/core/kernels/boosted_trees/quantiles/quantile_stream_resource.h\n",
            "    /home/nani/anaconda3/lib/python3.9/site-packages/tensorflow/include/tensorflow/core/kernels/boosted_trees/quantiles/weighted_quantiles_buffer.h\n",
            "    /home/nani/anaconda3/lib/python3.9/site-packages/tensorflow/include/tensorflow/core/kernels/boosted_trees/quantiles/weighted_quantiles_stream.h\n",
            "    /home/nani/anaconda3/lib/python3.9/site-packages/tensorflow/include/tensorflow/core/kernels/boosted_trees/quantiles/weighted_quantiles_summary.h\n",
            "    /home/nani/anaconda3/lib/python3.9/site-packages/tensorflow/include/tensorflow/core/kernels/boosted_trees/resources.h\n",
            "    /home/nani/anaconda3/lib/python3.9/site-packages/tensorflow/include/tensorflow/core/kernels/boosted_trees/tree_helper.h\n",
            "    /home/nani/anaconda3/lib/python3.9/site-packages/tensorflow/include/tensorflow/core/profiler/internal/cpu/annotation_stack.h\n",
            "    /home/nani/anaconda3/lib/python3.9/site-packages/tensorflow/include/tensorflow/core/profiler/internal/cpu/host_tracer_utils.h\n",
            "    /home/nani/anaconda3/lib/python3.9/site-packages/tensorflow/include/tensorflow/core/profiler/internal/cpu/traceme_recorder.h\n",
            "    /home/nani/anaconda3/lib/python3.9/site-packages/tensorflow/include/tensorflow/core/profiler/internal/gpu/cupti_collector.h\n",
            "    /home/nani/anaconda3/lib/python3.9/site-packages/tensorflow/include/tensorflow/core/profiler/internal/gpu/cupti_error_manager.h\n",
            "    /home/nani/anaconda3/lib/python3.9/site-packages/tensorflow/include/tensorflow/core/profiler/internal/gpu/cupti_interface.h\n",
            "    /home/nani/anaconda3/lib/python3.9/site-packages/tensorflow/include/tensorflow/core/profiler/internal/gpu/cupti_tracer.h\n",
            "    /home/nani/anaconda3/lib/python3.9/site-packages/tensorflow/include/tensorflow/core/profiler/internal/gpu/cupti_wrapper.h\n",
            "    /home/nani/anaconda3/lib/python3.9/site-packages/tensorflow/include/tensorflow/core/profiler/internal/gpu/nvtx_utils.h\n",
            "    /home/nani/anaconda3/lib/python3.9/site-packages/tensorflow/include/tensorflow/stream_executor/cuda/cuda_event.h\n",
            "    /home/nani/anaconda3/lib/python3.9/site-packages/tensorflow/include/tensorflow/stream_executor/cuda/cuda_timer.h\n",
            "    /home/nani/anaconda3/lib/python3.9/site-packages/tensorflow/include/tensorflow/stream_executor/gpu/gpu_event.h\n",
            "    /home/nani/anaconda3/lib/python3.9/site-packages/tensorflow/include/tensorflow/stream_executor/gpu/gpu_timer.h\n",
            "    /home/nani/anaconda3/lib/python3.9/site-packages/tensorflow/python/distribute/parallel_device/saving.py\n",
            "    /home/nani/anaconda3/lib/python3.9/site-packages/tensorflow/python/eager/function_cache.py\n",
            "    /home/nani/anaconda3/lib/python3.9/site-packages/tensorflow/python/eager/function_trace_type.py\n",
            "    /home/nani/anaconda3/lib/python3.9/site-packages/tensorflow/python/estimator/canned/boosted_trees.py\n",
            "    /home/nani/anaconda3/lib/python3.9/site-packages/tensorflow/python/estimator/canned/boosted_trees_utils.py\n",
            "    /home/nani/anaconda3/lib/python3.9/site-packages/tensorflow/python/keras/distribute/multi_worker_testing_utils.py\n",
            "    /home/nani/anaconda3/lib/python3.9/site-packages/tensorflow/python/keras/distribute/sidecar_evaluator.py\n",
            "    /home/nani/anaconda3/lib/python3.9/site-packages/tensorflow/python/keras/distribute/strategy_combinations.py\n",
            "    /home/nani/anaconda3/lib/python3.9/site-packages/tensorflow/python/keras/utils/multi_gpu_utils.py\n",
            "    /home/nani/anaconda3/lib/python3.9/site-packages/tensorflow/python/keras/wrappers/__init__.py\n",
            "    /home/nani/anaconda3/lib/python3.9/site-packages/tensorflow/python/keras/wrappers/scikit_learn.py\n",
            "    /home/nani/anaconda3/lib/python3.9/site-packages/tensorflow/python/ops/ragged/ragged_shape.py\n",
            "    /home/nani/anaconda3/lib/python3.9/site-packages/tensorflow/python/saved_model/registration.py\n",
            "Proceed (Y/n)? "
          ]
        }
      ],
      "source": [
        "!pip uninstall tf-nightly-gpu"
      ]
    },
    {
      "cell_type": "code",
      "execution_count": null,
      "id": "4f3b50cd",
      "metadata": {
        "id": "4f3b50cd",
        "outputId": "99738706-c052-455e-b79b-8b1b92063509"
      },
      "outputs": [
        {
          "name": "stderr",
          "output_type": "stream",
          "text": [
            "2022-04-18 22:39:35.867748: I tensorflow/core/util/util.cc:168] oneDNN custom operations are on. You may see slightly different numerical results due to floating-point round-off errors from different computation orders. To turn them off, set the environment variable `TF_ENABLE_ONEDNN_OPTS=0`.\n",
            "2022-04-18 22:39:35.871145: W tensorflow/stream_executor/platform/default/dso_loader.cc:64] Could not load dynamic library 'libcudart.so.11.0'; dlerror: libcudart.so.11.0: cannot open shared object file: No such file or directory; LD_LIBRARY_PATH: /home/nani/anaconda3/lib/python3.9/site-packages/cv2/../../lib64:\n",
            "2022-04-18 22:39:35.871178: I tensorflow/stream_executor/cuda/cudart_stub.cc:29] Ignore above cudart dlerror if you do not have a GPU set up on your machine.\n"
          ]
        }
      ],
      "source": [
        "import keras\n",
        "import tensorflow as tf\n",
        "tf.compat.v1.disable_eager_execution()\n",
        "\n",
        "from keras.datasets import mnist\n",
        "from keras.models import Sequential\n",
        "from keras.layers import Dense, Dropout, Flatten\n",
        "from keras.layers import Conv2D, MaxPooling2D\n",
        "from keras import backend as K"
      ]
    },
    {
      "cell_type": "code",
      "execution_count": null,
      "id": "efa4ce7c",
      "metadata": {
        "id": "efa4ce7c"
      },
      "outputs": [],
      "source": [
        ""
      ]
    }
  ],
  "metadata": {
    "kernelspec": {
      "display_name": "Python 3 (ipykernel)",
      "language": "python",
      "name": "python3"
    },
    "language_info": {
      "codemirror_mode": {
        "name": "ipython",
        "version": 3
      },
      "file_extension": ".py",
      "mimetype": "text/x-python",
      "name": "python",
      "nbconvert_exporter": "python",
      "pygments_lexer": "ipython3",
      "version": "3.9.7"
    },
    "colab": {
      "name": "Untitled.ipynb",
      "provenance": [],
      "include_colab_link": true
    }
  },
  "nbformat": 4,
  "nbformat_minor": 5
}