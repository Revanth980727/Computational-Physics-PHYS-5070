{
  "cells": [
    {
      "cell_type": "markdown",
      "metadata": {
        "id": "view-in-github",
        "colab_type": "text"
      },
      "source": [
        "<a href=\"https://colab.research.google.com/github/Revanth980727/Computational-Physics-PHYS-5070/blob/main/Code.ipynb\" target=\"_parent\"><img src=\"https://colab.research.google.com/assets/colab-badge.svg\" alt=\"Open In Colab\"/></a>"
      ]
    },
    {
      "cell_type": "code",
      "execution_count": 2,
      "id": "734cb2da",
      "metadata": {
        "id": "734cb2da"
      },
      "outputs": [],
      "source": [
        "# Importing Required Modules \n",
        "import random\n",
        "import numpy as np\n",
        "import cv2\n",
        "import matplotlib.pyplot as plt\n",
        "\n",
        "# Set the random seeds. Do not change this!\n",
        "seedVal = 41\n",
        "random.seed(seedVal)\n",
        "np.random.seed(seedVal)\n",
        "\n"
      ]
    },
    {
      "cell_type": "code",
      "source": [
        "!git clone https://github.com/Revanth980727/Computational-Physics-PHYS-5070.git"
      ],
      "metadata": {
        "colab": {
          "base_uri": "https://localhost:8080/"
        },
        "id": "z1fNlNmg9j4y",
        "outputId": "2adbac86-82c4-4925-cd89-faa7a01f06d1"
      },
      "id": "z1fNlNmg9j4y",
      "execution_count": 3,
      "outputs": [
        {
          "output_type": "stream",
          "name": "stdout",
          "text": [
            "fatal: destination path 'Computational-Physics-PHYS-5070' already exists and is not an empty directory.\n"
          ]
        }
      ]
    },
    {
      "cell_type": "markdown",
      "id": "d13e8595",
      "metadata": {
        "id": "d13e8595"
      },
      "source": [
        "Here, we are reading input data here."
      ]
    },
    {
      "cell_type": "code",
      "execution_count": 3,
      "id": "0876a0fb",
      "metadata": {
        "colab": {
          "base_uri": "https://localhost:8080/"
        },
        "id": "0876a0fb",
        "outputId": "06e9a02f-ae61-48a7-89e6-f937b4abfcbb"
      },
      "outputs": [
        {
          "output_type": "stream",
          "name": "stdout",
          "text": [
            "73031\n"
          ]
        }
      ],
      "source": [
        "file_names = list()\n",
        "true_label = list()\n",
        "with open(\"/content/Computational-Physics-PHYS-5070/labels-map-proj-v3.txt\",'r') as data_file:\n",
        "    for line in data_file:\n",
        "        data = line.split()\n",
        "        file_names.append(data[0])\n",
        "        true_label.append(data[1])\n",
        "print(len(file_names))"
      ]
    },
    {
      "cell_type": "markdown",
      "id": "490f1412",
      "metadata": {
        "id": "490f1412"
      },
      "source": [
        "Cleaning dataset."
      ]
    },
    {
      "cell_type": "code",
      "execution_count": 4,
      "id": "94e239c1",
      "metadata": {
        "colab": {
          "base_uri": "https://localhost:8080/"
        },
        "id": "94e239c1",
        "outputId": "16585544-af8d-47ac-cdcd-5930a8b029b1"
      },
      "outputs": [
        {
          "output_type": "stream",
          "name": "stdout",
          "text": [
            "7495\n",
            "7495\n"
          ]
        }
      ],
      "source": [
        "from pathlib import Path\n",
        "dataset = list()\n",
        "labels = list()\n",
        "for i in range(0,len(file_names)):\n",
        "    my_file = Path('/content/Computational-Physics-PHYS-5070/map-proj-v3/'+file_names[i])\n",
        "    #print(my_file)\n",
        "    if my_file.is_file():\n",
        "        img = cv2.imread('/content/Computational-Physics-PHYS-5070/map-proj-v3/'+ file_names[i],0)\n",
        "        dataset.append(img)\n",
        "        labels.append(int(true_label[i]))\n",
        "#print(counter)\n",
        "print(len(dataset))\n",
        "print(len(labels))"
      ]
    },
    {
      "cell_type": "code",
      "execution_count": 5,
      "id": "eaa80bc6",
      "metadata": {
        "colab": {
          "base_uri": "https://localhost:8080/"
        },
        "id": "eaa80bc6",
        "outputId": "ba835712-1220-43d3-db86-733777122295"
      },
      "outputs": [
        {
          "output_type": "stream",
          "name": "stdout",
          "text": [
            "6000\n",
            "6000\n",
            "1495\n",
            "1495\n"
          ]
        }
      ],
      "source": [
        "train_x = dataset[0:6000]\n",
        "print(len(train_x))\n",
        "train_x = np.array(train_x)\n",
        "train_y = labels[0:6000]\n",
        "print(len(train_y))\n",
        "train_y = np.array(train_y)\n",
        "test_x = dataset[6000:]\n",
        "print(len(test_x))\n",
        "test_x = np.array(test_x)\n",
        "test_y = labels[6000:]\n",
        "print(len(test_y))\n",
        "test_y = np.array(test_y)"
      ]
    },
    {
      "cell_type": "code",
      "execution_count": 6,
      "id": "b89046c8",
      "metadata": {
        "id": "b89046c8"
      },
      "outputs": [],
      "source": [
        "dataset = np.array(dataset)\n",
        "labels = np.array(labels)"
      ]
    },
    {
      "cell_type": "code",
      "execution_count": 7,
      "id": "978b605f",
      "metadata": {
        "colab": {
          "base_uri": "https://localhost:8080/",
          "height": 206
        },
        "id": "978b605f",
        "outputId": "7e4fab86-3f9a-421d-bee4-a0ef91dbfdc1"
      },
      "outputs": [
        {
          "output_type": "execute_result",
          "data": {
            "text/plain": [
              "   Label         Class\n",
              "0      0         other\n",
              "1      1        crater\n",
              "2      2     dark dune\n",
              "3      3  slope streak\n",
              "4      4   bright dune"
            ],
            "text/html": [
              "\n",
              "  <div id=\"df-31694e05-1f09-47bf-b2ec-a31639492348\">\n",
              "    <div class=\"colab-df-container\">\n",
              "      <div>\n",
              "<style scoped>\n",
              "    .dataframe tbody tr th:only-of-type {\n",
              "        vertical-align: middle;\n",
              "    }\n",
              "\n",
              "    .dataframe tbody tr th {\n",
              "        vertical-align: top;\n",
              "    }\n",
              "\n",
              "    .dataframe thead th {\n",
              "        text-align: right;\n",
              "    }\n",
              "</style>\n",
              "<table border=\"1\" class=\"dataframe\">\n",
              "  <thead>\n",
              "    <tr style=\"text-align: right;\">\n",
              "      <th></th>\n",
              "      <th>Label</th>\n",
              "      <th>Class</th>\n",
              "    </tr>\n",
              "  </thead>\n",
              "  <tbody>\n",
              "    <tr>\n",
              "      <th>0</th>\n",
              "      <td>0</td>\n",
              "      <td>other</td>\n",
              "    </tr>\n",
              "    <tr>\n",
              "      <th>1</th>\n",
              "      <td>1</td>\n",
              "      <td>crater</td>\n",
              "    </tr>\n",
              "    <tr>\n",
              "      <th>2</th>\n",
              "      <td>2</td>\n",
              "      <td>dark dune</td>\n",
              "    </tr>\n",
              "    <tr>\n",
              "      <th>3</th>\n",
              "      <td>3</td>\n",
              "      <td>slope streak</td>\n",
              "    </tr>\n",
              "    <tr>\n",
              "      <th>4</th>\n",
              "      <td>4</td>\n",
              "      <td>bright dune</td>\n",
              "    </tr>\n",
              "  </tbody>\n",
              "</table>\n",
              "</div>\n",
              "      <button class=\"colab-df-convert\" onclick=\"convertToInteractive('df-31694e05-1f09-47bf-b2ec-a31639492348')\"\n",
              "              title=\"Convert this dataframe to an interactive table.\"\n",
              "              style=\"display:none;\">\n",
              "        \n",
              "  <svg xmlns=\"http://www.w3.org/2000/svg\" height=\"24px\"viewBox=\"0 0 24 24\"\n",
              "       width=\"24px\">\n",
              "    <path d=\"M0 0h24v24H0V0z\" fill=\"none\"/>\n",
              "    <path d=\"M18.56 5.44l.94 2.06.94-2.06 2.06-.94-2.06-.94-.94-2.06-.94 2.06-2.06.94zm-11 1L8.5 8.5l.94-2.06 2.06-.94-2.06-.94L8.5 2.5l-.94 2.06-2.06.94zm10 10l.94 2.06.94-2.06 2.06-.94-2.06-.94-.94-2.06-.94 2.06-2.06.94z\"/><path d=\"M17.41 7.96l-1.37-1.37c-.4-.4-.92-.59-1.43-.59-.52 0-1.04.2-1.43.59L10.3 9.45l-7.72 7.72c-.78.78-.78 2.05 0 2.83L4 21.41c.39.39.9.59 1.41.59.51 0 1.02-.2 1.41-.59l7.78-7.78 2.81-2.81c.8-.78.8-2.07 0-2.86zM5.41 20L4 18.59l7.72-7.72 1.47 1.35L5.41 20z\"/>\n",
              "  </svg>\n",
              "      </button>\n",
              "      \n",
              "  <style>\n",
              "    .colab-df-container {\n",
              "      display:flex;\n",
              "      flex-wrap:wrap;\n",
              "      gap: 12px;\n",
              "    }\n",
              "\n",
              "    .colab-df-convert {\n",
              "      background-color: #E8F0FE;\n",
              "      border: none;\n",
              "      border-radius: 50%;\n",
              "      cursor: pointer;\n",
              "      display: none;\n",
              "      fill: #1967D2;\n",
              "      height: 32px;\n",
              "      padding: 0 0 0 0;\n",
              "      width: 32px;\n",
              "    }\n",
              "\n",
              "    .colab-df-convert:hover {\n",
              "      background-color: #E2EBFA;\n",
              "      box-shadow: 0px 1px 2px rgba(60, 64, 67, 0.3), 0px 1px 3px 1px rgba(60, 64, 67, 0.15);\n",
              "      fill: #174EA6;\n",
              "    }\n",
              "\n",
              "    [theme=dark] .colab-df-convert {\n",
              "      background-color: #3B4455;\n",
              "      fill: #D2E3FC;\n",
              "    }\n",
              "\n",
              "    [theme=dark] .colab-df-convert:hover {\n",
              "      background-color: #434B5C;\n",
              "      box-shadow: 0px 1px 3px 1px rgba(0, 0, 0, 0.15);\n",
              "      filter: drop-shadow(0px 1px 2px rgba(0, 0, 0, 0.3));\n",
              "      fill: #FFFFFF;\n",
              "    }\n",
              "  </style>\n",
              "\n",
              "      <script>\n",
              "        const buttonEl =\n",
              "          document.querySelector('#df-31694e05-1f09-47bf-b2ec-a31639492348 button.colab-df-convert');\n",
              "        buttonEl.style.display =\n",
              "          google.colab.kernel.accessAllowed ? 'block' : 'none';\n",
              "\n",
              "        async function convertToInteractive(key) {\n",
              "          const element = document.querySelector('#df-31694e05-1f09-47bf-b2ec-a31639492348');\n",
              "          const dataTable =\n",
              "            await google.colab.kernel.invokeFunction('convertToInteractive',\n",
              "                                                     [key], {});\n",
              "          if (!dataTable) return;\n",
              "\n",
              "          const docLinkHtml = 'Like what you see? Visit the ' +\n",
              "            '<a target=\"_blank\" href=https://colab.research.google.com/notebooks/data_table.ipynb>data table notebook</a>'\n",
              "            + ' to learn more about interactive tables.';\n",
              "          element.innerHTML = '';\n",
              "          dataTable['output_type'] = 'display_data';\n",
              "          await google.colab.output.renderOutput(dataTable, element);\n",
              "          const docLink = document.createElement('div');\n",
              "          docLink.innerHTML = docLinkHtml;\n",
              "          element.appendChild(docLink);\n",
              "        }\n",
              "      </script>\n",
              "    </div>\n",
              "  </div>\n",
              "  "
            ]
          },
          "metadata": {},
          "execution_count": 7
        }
      ],
      "source": [
        "import pandas as pd\n",
        "df = pd.read_csv (r'/content/Computational-Physics-PHYS-5070/landmarks_map-proj-v3_classmap.csv',header = None, names = ['Label','Class'])\n",
        "#print(df)\n",
        "#print(df['Class'])\n",
        "df.head()"
      ]
    },
    {
      "cell_type": "code",
      "execution_count": 8,
      "id": "a9c983dd",
      "metadata": {
        "id": "a9c983dd"
      },
      "outputs": [],
      "source": [
        "def addlabels(x,y):\n",
        "    for i in range(len(x)):\n",
        "        plt.text(i,y[i]//2, y[i], ha = 'center')"
      ]
    },
    {
      "cell_type": "code",
      "execution_count": 9,
      "id": "0b21d320",
      "metadata": {
        "colab": {
          "base_uri": "https://localhost:8080/",
          "height": 350
        },
        "id": "0b21d320",
        "outputId": "abf446be-ecec-4ece-c01b-4d0e39db0df7"
      },
      "outputs": [
        {
          "output_type": "display_data",
          "data": {
            "text/plain": [
              "<Figure size 1008x360 with 1 Axes>"
            ],
            "image/png": "[encoded data removed]"
          },
          "metadata": {
            "needs_background": "light"
          }
        }
      ],
      "source": [
        "label_0 = len(labels[labels == 0])\n",
        "label_1 = len(labels[labels == 1])\n",
        "label_2 = len(labels[labels == 2])\n",
        "label_3 = len(labels[labels == 3])\n",
        "label_4 = len(labels[labels == 4])\n",
        "label_5 = len(labels[labels == 5])\n",
        "label_6 = len(labels[labels == 6])\n",
        "label_7 = len(labels[labels == 7])\n",
        "plt.figure(figsize=(14,5))\n",
        "plt.bar(df['Class'], [label_0,label_1,label_2,label_3,label_4,label_5,label_6,label_7])\n",
        "addlabels(df['Class'],[label_0,label_1,label_2,label_3,label_4,label_5,label_6,label_7])\n",
        "plt.title('Inital Dataset')\n",
        "plt.xlabel('Classes')\n",
        "plt.ylabel('Frequency of each class')\n",
        "plt.show()\n",
        "\n",
        "#print(label_0,label_1,label_2,label_3,label_4,label_5,label_6,label_7)"
      ]
    },
    {
      "cell_type": "code",
      "execution_count": 10,
      "id": "9dd5b619",
      "metadata": {
        "colab": {
          "base_uri": "https://localhost:8080/",
          "height": 350
        },
        "id": "9dd5b619",
        "outputId": "bc4b36b4-48f3-4229-f721-24e1c6e49c7e"
      },
      "outputs": [
        {
          "output_type": "display_data",
          "data": {
            "text/plain": [
              "<Figure size 1008x360 with 1 Axes>"
            ],
            "image/png": "[encoded data removed]"
          },
          "metadata": {
            "needs_background": "light"
          }
        }
      ],
      "source": [
        "label_0 = len(train_y[train_y == 0])\n",
        "label_1 = len(train_y[train_y == 1])\n",
        "label_2 = len(train_y[train_y == 2])\n",
        "label_3 = len(train_y[train_y == 3])\n",
        "label_4 = len(train_y[train_y == 4])\n",
        "label_5 = len(train_y[train_y == 5])\n",
        "label_6 = len(train_y[train_y == 6])\n",
        "label_7 = len(train_y[train_y == 7])\n",
        "plt.figure(figsize=(14,5))\n",
        "plt.bar(df['Class'], [label_0,label_1,label_2,label_3,label_4,label_5,label_6,label_7])\n",
        "addlabels(df['Class'],[label_0,label_1,label_2,label_3,label_4,label_5,label_6,label_7])\n",
        "plt.title('Training Dataset')\n",
        "plt.xlabel('Classes')\n",
        "plt.ylabel('Frequency of each class')\n",
        "plt.show()\n",
        "\n",
        "#print(label_0,label_1,label_2,label_3,label_4)"
      ]
    },
    {
      "cell_type": "code",
      "execution_count": 11,
      "id": "b524f711",
      "metadata": {
        "colab": {
          "base_uri": "https://localhost:8080/",
          "height": 367
        },
        "id": "b524f711",
        "outputId": "fb5ac88b-54ce-4f3d-b636-f9b2a1540ed7"
      },
      "outputs": [
        {
          "output_type": "display_data",
          "data": {
            "text/plain": [
              "<Figure size 1008x360 with 1 Axes>"
            ],
            "image/png": "[encoded data removed]"
          },
          "metadata": {
            "needs_background": "light"
          }
        },
        {
          "output_type": "stream",
          "name": "stdout",
          "text": [
            "1091 91 70 128 24\n"
          ]
        }
      ],
      "source": [
        "label_0 = len(test_y[test_y == 0])\n",
        "label_1 = len(test_y[test_y == 1])\n",
        "label_2 = len(test_y[test_y == 2])\n",
        "label_3 = len(test_y[test_y == 3])\n",
        "label_4 = len(test_y[test_y == 4])\n",
        "label_5 = len(test_y[test_y == 5])\n",
        "label_6 = len(test_y[test_y == 6])\n",
        "label_7 = len(test_y[test_y == 7])\n",
        "plt.figure(figsize=(14,5))\n",
        "plt.bar(df['Class'], [label_0,label_1,label_2,label_3,label_4,label_5,label_6,label_7])\n",
        "addlabels(df['Class'],[label_0,label_1,label_2,label_3,label_4,label_5,label_6,label_7])\n",
        "plt.title('Test Dataset')\n",
        "plt.xlabel('Classes')\n",
        "plt.ylabel('Frequency of each class')\n",
        "plt.show()\n",
        "\n",
        "print(label_0,label_1,label_2,label_3,label_4)"
      ]
    },
    {
      "cell_type": "code",
      "execution_count": 15,
      "id": "4f3b50cd",
      "metadata": {
        "id": "4f3b50cd"
      },
      "outputs": [],
      "source": [
        "import keras\n",
        "import tensorflow as tf\n",
        "tf.compat.v1.disable_eager_execution()\n",
        "\n",
        "from keras.datasets import mnist\n",
        "from keras.models import Sequential\n",
        "from keras.layers import Dense, Dropout, Flatten\n",
        "from keras.layers import Conv2D, MaxPooling2D\n",
        "from keras import backend as K\n",
        "\n",
        "# Define some constants.\n",
        "NUM_CLASSES = 8\n",
        "BATCH_SIZE = 16"
      ]
    },
    {
      "cell_type": "code",
      "source": [
        "print(train_x.shape)"
      ],
      "metadata": {
        "colab": {
          "base_uri": "https://localhost:8080/"
        },
        "id": "IQwq6a9DByR6",
        "outputId": "9f9a423c-59de-40f0-d4c9-d51cb048ebb0"
      },
      "id": "IQwq6a9DByR6",
      "execution_count": 14,
      "outputs": [
        {
          "output_type": "stream",
          "name": "stdout",
          "text": [
            "(6000, 227, 227)\n"
          ]
        }
      ]
    },
    {
      "cell_type": "code",
      "execution_count": 13,
      "id": "efa4ce7c",
      "metadata": {
        "colab": {
          "base_uri": "https://localhost:8080/"
        },
        "id": "efa4ce7c",
        "outputId": "e7f9ab20-528c-425d-d50a-abfa39e2f960"
      },
      "outputs": [
        {
          "output_type": "stream",
          "name": "stdout",
          "text": [
            "8\n"
          ]
        }
      ],
      "source": [
        "# Normalizing the dataset\n",
        "train_x = keras.utils.all_utils.normalize(train_x, axis=1)\n",
        "test_x = keras.utils.all_utils.normalize(test_x, axis=1)\n",
        "\n",
        "# Class vectors are converted to binary class matrices\n",
        "train_y = keras.utils.all_utils.to_categorical(train_y, NUM_CLASSES)\n",
        "test_y =keras.utils.all_utils.to_categorical(test_y, NUM_CLASSES)\n",
        "print(len(train_y[0]))\n",
        "\n",
        "K.set_image_data_format('channels_first')\n",
        "\n",
        "# Data reshape\n",
        "train_x = train_x.reshape(train_x.shape[0], 1, 227, 227)\n",
        "test_x =  test_x.reshape(test_x.shape[0], 1, 227, 227)"
      ]
    },
    {
      "cell_type": "code",
      "source": [
        "#from art.estimators.classification import KerasClassifier\n",
        "# Training a CNN-based model using the NASA Dataset\n",
        "nasa_model = Sequential()\n",
        "\n",
        "# Define the intermediate layers.\n",
        "nasa_model.add(Conv2D(32,kernel_size=(3,3),activation='relu',input_shape=(1,227,227)))\n",
        "nasa_model.add(Conv2D(64,(3,3), activation='relu'))\n",
        "nasa_model.add(MaxPooling2D(pool_size=(2,2)))\n",
        "nasa_model.add(Dropout(0.25))\n",
        "nasa_model.add(Flatten())\n",
        "nasa_model.add(Dense(128,activation='relu'))\n",
        "nasa_model.add(Dropout(0.5))\n",
        "\n",
        "nasa_model.add(Dense(NUM_CLASSES, activation='softmax'))\n",
        "\n",
        "# Compile the model\n",
        "nasa_model.compile(loss=keras.losses.categorical_crossentropy,optimizer='adam',metrics=['accuracy'])\n",
        "#nasa_model = KerasClassifier(model=nasa_model, clip_values=(0,1))\n",
        "\n",
        "\n",
        "# Fit the model\n",
        "nasa_model.fit(train_x, train_y, epochs=18, batch_size=BATCH_SIZE)"
      ],
      "metadata": {
        "colab": {
          "base_uri": "https://localhost:8080/"
        },
        "id": "B0eXxAmQCPF6",
        "outputId": "6f5f0b07-3c1f-4cb5-8f52-6f606035a2e5"
      },
      "id": "B0eXxAmQCPF6",
      "execution_count": 16,
      "outputs": [
        {
          "output_type": "stream",
          "name": "stdout",
          "text": [
            "Train on 6000 samples\n",
            "Epoch 1/18\n",
            "6000/6000 [==============================] - 87s 15ms/sample - loss: 0.7103 - accuracy: 0.8565\n",
            "Epoch 2/18\n",
            "6000/6000 [==============================] - 86s 14ms/sample - loss: 0.6627 - accuracy: 0.8603\n",
            "Epoch 3/18\n",
            "6000/6000 [==============================] - 86s 14ms/sample - loss: 0.6544 - accuracy: 0.8603\n",
            "Epoch 4/18\n",
            "6000/6000 [==============================] - 84s 14ms/sample - loss: 0.6501 - accuracy: 0.8603\n",
            "Epoch 5/18\n",
            "6000/6000 [==============================] - 84s 14ms/sample - loss: 0.6317 - accuracy: 0.8603\n",
            "Epoch 6/18\n",
            "6000/6000 [==============================] - 84s 14ms/sample - loss: 0.6171 - accuracy: 0.8607\n",
            "Epoch 7/18\n",
            "6000/6000 [==============================] - 84s 14ms/sample - loss: 0.5986 - accuracy: 0.8620\n",
            "Epoch 8/18\n",
            "6000/6000 [==============================] - 84s 14ms/sample - loss: 0.5772 - accuracy: 0.8637\n",
            "Epoch 9/18\n",
            "6000/6000 [==============================] - 84s 14ms/sample - loss: 0.5367 - accuracy: 0.8650\n",
            "Epoch 10/18\n",
            "6000/6000 [==============================] - 84s 14ms/sample - loss: 0.5559 - accuracy: 0.8670\n",
            "Epoch 11/18\n",
            "6000/6000 [==============================] - 84s 14ms/sample - loss: 0.4867 - accuracy: 0.8733\n",
            "Epoch 12/18\n",
            "6000/6000 [==============================] - 84s 14ms/sample - loss: 0.4405 - accuracy: 0.8778\n",
            "Epoch 13/18\n",
            "6000/6000 [==============================] - 85s 14ms/sample - loss: 0.4062 - accuracy: 0.8838\n",
            "Epoch 14/18\n",
            "6000/6000 [==============================] - 85s 14ms/sample - loss: 0.4078 - accuracy: 0.8853\n",
            "Epoch 15/18\n",
            "6000/6000 [==============================] - 85s 14ms/sample - loss: 0.3467 - accuracy: 0.8983\n",
            "Epoch 16/18\n",
            "6000/6000 [==============================] - 85s 14ms/sample - loss: 0.3106 - accuracy: 0.9080\n",
            "Epoch 17/18\n",
            "6000/6000 [==============================] - 85s 14ms/sample - loss: 0.3307 - accuracy: 0.9097\n",
            "Epoch 18/18\n",
            "6000/6000 [==============================] - 85s 14ms/sample - loss: 0.2649 - accuracy: 0.9180\n"
          ]
        },
        {
          "output_type": "execute_result",
          "data": {
            "text/plain": [
              "<keras.callbacks.History at 0x7f19d02357d0>"
            ]
          },
          "metadata": {},
          "execution_count": 16
        }
      ]
    },
    {
      "cell_type": "code",
      "source": [
        "# Testing model on test dataset\n",
        "predictions = nasa_model.predict(test_x)\n",
        "count = 0\n",
        "for i in range(test_x.shape[0]):\n",
        "  if np.where(predictions[i] == max(predictions[i]))[0][0] == np.where(test_y[i] == max(test_y[i]))[0][0]:\n",
        "    count+=1\n",
        "accuracy = count/test_x.shape[0]\n",
        "print('Accuracy of the model = {}'.format(accuracy))"
      ],
      "metadata": {
        "colab": {
          "base_uri": "https://localhost:8080/"
        },
        "id": "BNRry7f1EyZl",
        "outputId": "62867f9d-dd9d-40f8-ce30-cb1b4d4f1a3d"
      },
      "id": "BNRry7f1EyZl",
      "execution_count": 19,
      "outputs": [
        {
          "output_type": "stream",
          "name": "stdout",
          "text": [
            "Accuracy of the model = 0.7384615384615385\n"
          ]
        }
      ]
    },
    {
      "cell_type": "code",
      "source": [
        ""
      ],
      "metadata": {
        "id": "NssU_38RPRVV"
      },
      "id": "NssU_38RPRVV",
      "execution_count": null,
      "outputs": []
    }
  ],
  "metadata": {
    "kernelspec": {
      "display_name": "Python 3 (ipykernel)",
      "language": "python",
      "name": "python3"
    },
    "language_info": {
      "codemirror_mode": {
        "name": "ipython",
        "version": 3
      },
      "file_extension": ".py",
      "mimetype": "text/x-python",
      "name": "python",
      "nbconvert_exporter": "python",
      "pygments_lexer": "ipython3",
      "version": "3.9.7"
    },
    "colab": {
      "name": "Untitled.ipynb",
      "provenance": [],
      "include_colab_link": true
    },
    "accelerator": "GPU"
  },
  "nbformat": 4,
  "nbformat_minor": 5
}